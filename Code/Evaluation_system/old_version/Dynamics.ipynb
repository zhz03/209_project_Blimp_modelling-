{
  "nbformat": 4,
  "nbformat_minor": 0,
  "metadata": {
    "colab": {
      "name": "Dynamics",
      "provenance": [],
      "collapsed_sections": [],
      "toc_visible": true
    },
    "kernelspec": {
      "name": "python3",
      "display_name": "Python 3"
    }
  },
  "cells": [
    {
      "cell_type": "markdown",
      "metadata": {
        "id": "9rq4lszexjv7"
      },
      "source": [
        "# System Dynamics\n",
        "\n",
        "## Frame\n",
        "\n",
        "We assume our blimp follows the north-east-down coordinate system. That is, the x axis points at the front, y axis points to the right of our blimp, and the z axis points down.\n",
        "\n",
        "We assume the world frame's z axis points down as well."
      ]
    },
    {
      "cell_type": "markdown",
      "metadata": {
        "id": "TcCfVXySfR5H"
      },
      "source": [
        "## System Parameters\n",
        "@Zhaoliang system paramters"
      ]
    },
    {
      "cell_type": "code",
      "metadata": {
        "id": "9EYTwF-ArwsV"
      },
      "source": [
        "import math\n",
        "import matplotlib.pyplot as plt\n",
        "import numpy as np\n",
        "pi = math.pi\n",
        "\n",
        "# environment\n",
        "g = 9.8\n",
        "rho = 1.1 # air density\n",
        "\n",
        "# blimp mass, assuming 100g=0.1kg\n",
        "m = 0.1\n",
        "\n",
        "# controller\n",
        "phi = pi/18 # pitch\n",
        "\n",
        "R_wb = np.array([[np.cos(phi),0,np.sin(phi)],\n",
        "                 [0,1,0],\n",
        "                 [-np.sin(phi),0,np.cos(phi)]]) # rotation matrix, given by attitude controller\n",
        "R_bw = np.linalg.inv(R_wb)\n",
        "\n",
        "# Shape hull + Gondola\n",
        "# l_gz: z-distance from origin to aerodynamic center of Gondola (aram) \n",
        "\n",
        "C_D = np.array([1.8,1.8,2.5])"
      ],
      "execution_count": null,
      "outputs": []
    },
    {
      "cell_type": "markdown",
      "metadata": {
        "id": "5Tw6QgSffWQr"
      },
      "source": [
        "## Geometry\n",
        "\n",
        "$⍴_{a}=⍴_{air}-⍴_{Hellium}$\n",
        "\n",
        "$B = ⍴_{a}Vg $\n",
        "\n",
        "$V = \\frac{3}{4}\\ * \\pi *a*b*c $"
      ]
    },
    {
      "cell_type": "code",
      "metadata": {
        "id": "U_ba28XmfYWT"
      },
      "source": [
        "# Diameter\n",
        "# Length: about 145cm height about 90cm\n",
        "# Inflated size: 145 * 90 * 60cm\n",
        "# https://www.amazon.com/Kengsiren-Control-Clownfish-Childrens-Artifact/dp/B086WCXX99\n",
        "Dx = 1.1 # meters \n",
        "Dy = 0.5\n",
        "Dz = 0.6\n",
        "shaping_coeff = 0.9\n",
        "\n",
        "# Volume\n",
        "def calc_Volume(a,b,c):\n",
        "  r_a = round(0.5*a,5)\n",
        "  r_b = round(0.5*b,5)\n",
        "  r_c = round(0.5*c,5)\n",
        "  v = (pi * r_a * r_b * r_c)*3/4*shaping_coeff\n",
        "  v = round(v,5)\n",
        "  return v\n",
        "V = calc_Volume(Dx,Dy,Dz)\n",
        "\n",
        "# Surface area\n",
        "area_xy = pi*Dx*Dy*0.25\n",
        "area_xz = pi*Dx*Dz*0.25\n",
        "area_yz = pi*Dy*Dz*0.25\n",
        "\n",
        "A_body = np.array([area_yz,area_xz,area_xy])\n",
        "\n",
        "# Arms\n",
        "CG_to_CB_body = np.array([0,0,-1])\n",
        "\n",
        "# Motor position @Zhaoliang\n",
        "motor_pos = [[1,2,1],[],[]]\n",
        "motor_orientation = [[],[],[]]\n",
        "motor_speed = []\n",
        "prop_radius = []"
      ],
      "execution_count": null,
      "outputs": []
    },
    {
      "cell_type": "code",
      "metadata": {
        "colab": {
          "base_uri": "https://localhost:8080/"
        },
        "id": "DIw0UAnKOCOA",
        "outputId": "d15bd45d-fa43-4a0a-bdd7-0c893b8677ca"
      },
      "source": [
        "A_body"
      ],
      "execution_count": null,
      "outputs": [
        {
          "output_type": "execute_result",
          "data": {
            "text/plain": [
              "array([0.23561945, 0.51836279, 0.43196899])"
            ]
          },
          "metadata": {
            "tags": []
          },
          "execution_count": 25
        }
      ]
    },
    {
      "cell_type": "markdown",
      "metadata": {
        "id": "sHaHh368rmLx"
      },
      "source": [
        "## Buoyancy\n",
        "@Owen $F_B$ $M_{B,x},M_{B,y},M_{B,z}$"
      ]
    },
    {
      "cell_type": "code",
      "metadata": {
        "id": "FKjKxnNtrqFV",
        "colab": {
          "base_uri": "https://localhost:8080/"
        },
        "outputId": "69bd0b2f-8138-416d-9d5c-70abeab4e8a7"
      },
      "source": [
        "# buoyancy\n",
        "\n",
        "def calc_Buoyancy():\n",
        "  F_B = rho * V *g #because we assume Z axis pointing downward, buoyancy force is therefore negative\n",
        "  \n",
        "  F_B_world = np.array([0,0,-F_B])\n",
        "  F_B_body = R_bw @ F_B_world\n",
        "  M_B_body = np.cross(F_B_body,CG_to_CB_body)\n",
        "  return [F_B_world,M_B_body]  #[force on x, force on y, force on z, moment on x, moment on y, moment on z]\n",
        "\n",
        "[F_B_world,M_B] = calc_Buoyancy()\n",
        "F_B = np.abs(F_B_world[2])\n",
        "\n",
        "print(\"Buoyancy = \"+str(F_B))"
      ],
      "execution_count": null,
      "outputs": [
        {
          "output_type": "stream",
          "text": [
            "Buoyancy = 0.9429266000000002\n"
          ],
          "name": "stdout"
        }
      ]
    },
    {
      "cell_type": "markdown",
      "metadata": {
        "id": "awADWutAtVE4"
      },
      "source": [
        "## Propulsion"
      ]
    },
    {
      "cell_type": "markdown",
      "metadata": {
        "id": "TEw43oPjtjOY"
      },
      "source": [
        "@Zeyu Force $F_P=\\begin{bmatrix}F_X\\\\F_Y\\\\F_Z\\end{bmatrix}$, Moment $\\begin{bmatrix}M_X\\\\M_Y\\\\M_Z\\end{bmatrix}$"
      ]
    },
    {
      "cell_type": "code",
      "metadata": {
        "id": "LF1ZJkaKtmgm",
        "colab": {
          "base_uri": "https://localhost:8080/"
        },
        "outputId": "9b099e98-7818-4ed3-f98b-f19394f8f130"
      },
      "source": [
        "# propulsion\n",
        " # Zeyu\n",
        "import math\n",
        "import numpy as np\n",
        "p=1\n",
        "w=2\n",
        "r=3\n",
        "a1=a2=b1=b2=c1=c2=1.5\n",
        "i=1\n",
        "lx=ly=lz=1\n",
        "T=p*math.pow(w,2)*math.pow( r, 4 )*i\n",
        "Fx=1.32*math.cos(a1)+1.32*math.cos(a2)\n",
        "Fy=1.32*math.cos(b1)+1.32*math.cos(b2)\n",
        "Fz=1.32*math.cos(c1)+1.32*math.cos(c2)\n",
        "a1=np.array([[0,Fz,-Fy],[-Fz,0,Fx],[Fy,Fx,0]])\n",
        "a2=np.array([lx,ly,lz])\n",
        "M=np.dot(a1,a2)\n",
        "print(a2)\n",
        "print(Fx)\n",
        "print(Fy)\n",
        "print(Fz)\n",
        "print(M)"
      ],
      "execution_count": null,
      "outputs": [
        {
          "output_type": "stream",
          "text": [
            "[1 1 1]\n",
            "0.18674621240273567\n",
            "0.18674621240273567\n",
            "0.18674621240273567\n",
            "[0.         0.         0.37349242]\n"
          ],
          "name": "stdout"
        }
      ]
    },
    {
      "cell_type": "markdown",
      "metadata": {
        "id": "LgRNgBCjtTxG"
      },
      "source": [
        "# Linear\n",
        "\n",
        "The linear system dynamic in the world frame is (Ref: The GRASP Multiple Micro-UAV Testbed)\n",
        "\n",
        "$$\n",
        "m\\begin{bmatrix}\\dot v_x\\\\\\dot v_y\\\\\\dot v_z\\end{bmatrix}=\n",
        "\\begin{bmatrix}0\\\\0\\\\mg-F_B\\end{bmatrix}+\n",
        "R_{wb}\\begin{bmatrix}F_X-f_x(v_{x,\\text{body}})\\\\F_Y-f_y(v_{y,\\text{body}})\\\\F_Z+f_z(v_{z,\\text{body}})\\end{bmatrix}\n",
        "$$\n",
        "\n",
        "Where $m$ is the total mass of our blimp, $F_B$ is the buoyancy, $R_{wb}$ is the rotation matrix that translates body frame to world frame, $F$ are the propulsion provided by motors, and $f$ being the drag, which is a function of velocity."
      ]
    },
    {
      "cell_type": "markdown",
      "metadata": {
        "id": "PP_HCzn23zGg"
      },
      "source": [
        "## Steady State Analysis (Closed-form)\n",
        "The terminal velocity has a closed-form solution when the acceleration on all 3 axes are 0. That is\n",
        "\n",
        "$$\n",
        "\\begin{bmatrix}0\\\\0\\\\F_B-mg\\end{bmatrix}=\n",
        "R_{wb}\\begin{bmatrix}F_X-f_x(v_{x,\\text{max,body}})\\\\F_Y-f_y(v_{y,\\text{max,body}})\\\\F_Z+f_z(v_{z,\\text{max,body}})\\end{bmatrix}\n",
        "$$\n",
        "\n",
        "Assuming that our attitude controller holds the blimp at a certain attitude with roll $\\phi$ pitch $\\theta$ and yaw $\\psi$, captured by $R_{wb}=R(\\phi,\\theta,\\psi)$.\n",
        "\n",
        "The terminal velocity can thus be extracted from\n",
        "\n",
        "$$\n",
        "\\begin{bmatrix}f_x(v_{x,\\text{max,body}})\\\\f_y(v_{y,\\text{max,body}})\\\\-f_z(v_{z,\\text{max,body}})\\end{bmatrix}=\n",
        "\\begin{bmatrix}F_X\\\\F_Y\\\\F_Z\\end{bmatrix}\n",
        "-R_{bw}\\begin{bmatrix}0\\\\0\\\\F_B-mg\\end{bmatrix}\n",
        "$$\n",
        "\n",
        "### Steady State Drag\n",
        "$$f=\\frac{1}{2} \\rho v^{2} C_{D} A$$\n",
        "\n",
        "$$\\implies v_\\text{max,body}=\\sqrt{\\frac{2f}{\\rho C_D A}}$$"
      ]
    },
    {
      "cell_type": "code",
      "metadata": {
        "colab": {
          "base_uri": "https://localhost:8080/"
        },
        "id": "-tXappXF-fQ7",
        "outputId": "4e87b9d3-194e-4994-e8a5-99e8b5fd518c"
      },
      "source": [
        "f = F_p - R_bw @ np.array([0,0,F_B-m*g])\n",
        "f[2] = -f[2]\n",
        "v_max_body = np.sqrt(2*f/(rho*C_D*A_body))\n",
        "v_max_world = R_wb @ v_max_body\n",
        "\n",
        "print(\"max linear speed = \"+str(v_max_body)+str(v_max_world))"
      ],
      "execution_count": null,
      "outputs": [
        {
          "output_type": "stream",
          "text": [
            "max linear speed = [0.91093458 0.         0.52464765][0.98819955 0.         0.35849495]\n"
          ],
          "name": "stdout"
        }
      ]
    },
    {
      "cell_type": "markdown",
      "metadata": {
        "id": "ulXKrtKMuwgJ"
      },
      "source": [
        "## Transient Analysis (Simulation)\n",
        "@Yifei\n",
        "\n",
        "0 to $0.9v_\\text{max}$ time"
      ]
    },
    {
      "cell_type": "code",
      "metadata": {
        "id": "FaAKxv6XeKAS"
      },
      "source": [
        "def calculate_drag(v_world):\n",
        "  v_body = R_bw@v_world\n",
        "  fd = 0.5*rho*(v_body**2)*C_D*A_body\n",
        "  fd[0] = -fd[0]\n",
        "  fd[1] = -fd[1]\n",
        "  return fd\n",
        "\n",
        "def calculate_moment(v,alpha,beta):\n",
        "  # CL2 in paper\n",
        "  cdl = -1*(cdcg*Ref_Ag*l_gz)\n",
        "  L =0.5*rho*v**2*(cdl*math.sin(beta)*math.sin(abs(beta)))\n",
        "  # CM3 in paper\n",
        "  cdm = -1*(cdch*J2*Ref_Ac*Dx)\n",
        "  M =0.5*rho*v**2*(cdm*math.sin(alpha)*math.sin(abs(alpha)))\n",
        "  # CN3 in paper\n",
        "  cdn = -1*cdm\n",
        "  N =0.5*rho*v**2*(cdn*math.sin(beta)*math.sin(abs(beta)))\n",
        "\n",
        "  return L,M,N"
      ],
      "execution_count": null,
      "outputs": []
    },
    {
      "cell_type": "code",
      "metadata": {
        "id": "eSWjNRV_w_TT"
      },
      "source": [
        "# here fx, fy, fz are netforce of propulsion, graivity, and buoyancy\n",
        "# Assume \n",
        "def simluation_process(F_world):\n",
        "  dt = 0.01;\n",
        "  prev_v = np.zeros(3)\n",
        "  vxs = []\n",
        "  vys = []\n",
        "  vzs = []\n",
        "  # Angular\n",
        "  alphas = []\n",
        "  betas = []\n",
        "\n",
        "  prev_alpha = 0\n",
        "  prev_beta = 0\n",
        "  # prev_alpha = alpha = math.atan(prev_vz/prev_vx)\n",
        "  # prev_beta = math.asin(prev_vy/prev_v)\n",
        "  n = 0\n",
        "  while True:\n",
        "    n += 1\n",
        "    vxs.append(prev_v[0])\n",
        "    vys.append(prev_v[1])\n",
        "    vzs.append(abs(prev_v[2]))\n",
        "    #Angular\n",
        "    # alphas.append(prev_alpha)\n",
        "    # betas.append(prev_beta)\n",
        "    fd_body = calculate_drag(prev_v)\n",
        "    fd_world = R_wb @ fd_body\n",
        "    # Angular\n",
        "    # L,M,N = calculate_moment(prev_v,prev_alpha,prev_beta)\n",
        "    a = (F_world+fd_world)/m\n",
        "    if n == 1000:\n",
        "      break\n",
        "    prev_v += a*dt\n",
        "    \n",
        "\n",
        "  \n",
        "  # plot\n",
        "  ns = range(0,n)\n",
        "  plt.figure()\n",
        "  plt.plot(ns,vxs,label='$v_x$')\n",
        "  plt.plot(ns,vys,label='$v_y$')\n",
        "  plt.plot(ns,vzs,label='$\\|v_z\\|$')\n",
        "  plt.legend()\n",
        "  plt.ylabel(\"Velocity(m/s)\")\n",
        "  plt.xlabel(\"time(/0.01s))\")\n",
        "  return\n"
      ],
      "execution_count": null,
      "outputs": []
    },
    {
      "cell_type": "code",
      "metadata": {
        "id": "qpPIoDTo1HjS",
        "colab": {
          "base_uri": "https://localhost:8080/",
          "height": 279
        },
        "outputId": "55ff6729-ff0e-41aa-c544-8118a52244bc"
      },
      "source": [
        "# net force of propulsion, buoyancy and gravity in the world frame\n",
        "F = R_wb @ F_p + F_B_world + np.array([0,0,m*g])\n",
        "assert(F[2]<0)\n",
        "simluation_process(F)"
      ],
      "execution_count": null,
      "outputs": [
        {
          "output_type": "display_data",
          "data": {
            "image/png": "[encoded data removed]",
            "text/plain": [
              "<Figure size 432x288 with 1 Axes>"
            ]
          },
          "metadata": {
            "tags": [],
            "needs_background": "light"
          }
        }
      ]
    },
    {
      "cell_type": "markdown",
      "metadata": {
        "id": "SrWKZlHnxFAG"
      },
      "source": [
        "# Angular\n",
        "\n",
        "The angular system dynamic in the blimp body frame is (ref: Parameter Identification of Blimp Dynamics through Swinging Motion)\n",
        "\n",
        "$$\n",
        "I \\dot \\omega + \\omega \\times (I\\omega)=M\n",
        "$$\n",
        "\n",
        "Where $I$ is the moment of inertia matrix, $\\omega$ is the angular velocity, and $M$ is the total moment on 3 axes."
      ]
    },
    {
      "cell_type": "markdown",
      "metadata": {
        "id": "JPhTfj-NXmSW"
      },
      "source": [
        "## Steady State Analysis (Closed-form)\n",
        "\n",
        "The factor limiting the maximum angular velocity is an aerodynamic damping moment, that can be assumed to be proportional to the angular velocity \n",
        "\n",
        "$$\n",
        "M_d=\\begin{bmatrix} -k_x \\dot \\phi \\\\ -k_y \\dot \\theta \\\\-k_z \\dot \\psi\\end{bmatrix}\n",
        "$$\n",
        "\n",
        "Considering the fact that our blimp rotates rather slowly, the $w\\times(Iw)$ term can also be omitted. Thus giving us\n",
        "\n",
        "$$\n",
        "I\\dot \\omega = M_p + M_t + M_d(\\dot \\phi,\\dot \\theta,\\dot \\psi)\n",
        "$$\n",
        "\n",
        "Where $M_p$ is the propulsion torque, and $M_t$ is the motor torque.\n",
        "\n",
        "A closed-form terminal angular velocity can be obtained by setting $\\dot \\omega = 0$ and obtaining the corresponding roll pitch and yaw rate. That is\n",
        "\n",
        "$$\n",
        "M_d(\\dot \\phi_\\text{max},\\dot \\theta_\\text{max},\\dot \\psi_\\text{max}) = -M_p - M_t\n",
        "$$"
      ]
    },
    {
      "cell_type": "code",
      "metadata": {
        "id": "4qceCsjMXliq"
      },
      "source": [
        "# Propulsion torque\n"
      ],
      "execution_count": null,
      "outputs": []
    },
    {
      "cell_type": "markdown",
      "metadata": {
        "id": "ADLeNsQuXqOG"
      },
      "source": [
        "## Transient Analysis (Simulation)"
      ]
    },
    {
      "cell_type": "code",
      "metadata": {
        "id": "YM636qrWatyn"
      },
      "source": [
        ""
      ],
      "execution_count": null,
      "outputs": []
    }
  ]
}