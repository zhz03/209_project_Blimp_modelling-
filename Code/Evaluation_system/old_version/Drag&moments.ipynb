{
  "nbformat": 4,
  "nbformat_minor": 0,
  "metadata": {
    "colab": {
      "name": "Drag&moments.ipynb",
      "provenance": [],
      "collapsed_sections": [],
      "include_colab_link": true
    },
    "kernelspec": {
      "name": "python3",
      "display_name": "Python 3"
    }
  },
  "cells": [
    {
      "cell_type": "markdown",
      "metadata": {
        "id": "view-in-github",
        "colab_type": "text"
      },
      "source": [
        "<a href=\"https://colab.research.google.com/github/zhz03/209_project_Blimp_modelling/blob/main/Drag%26moments.ipynb\" target=\"_parent\"><img src=\"https://colab.research.google.com/assets/colab-badge.svg\" alt=\"Open In Colab\"/></a>"
      ]
    },
    {
      "cell_type": "markdown",
      "metadata": {
        "id": "8_jSBx7OxF_C"
      },
      "source": [
        "# Useful formula\n",
        "$F_{D}=\\frac{1}{2} \\rho v^{2} C_{D} A$\n",
        "\n",
        "$C_D,\\ \\rho $ can be tested once the real model out"
      ]
    },
    {
      "cell_type": "markdown",
      "metadata": {
        "id": "_z0hruXe2On_"
      },
      "source": [
        "# Input and Output\n",
        "Drag force\n",
        "\n",
        "  Input:\n",
        "  1. $v$\n",
        "  2. $\\rho$ ,  $C_d$... \n",
        "  3. volume V\n",
        "  4. Angle of attack $\\alpha$\n",
        "  5. Angle of sideslip $\\beta$\n",
        "\n",
        "Output\n",
        "  1. Drag force:  $Fd_x,\\ Fd_y,\\ Fd_z$\n",
        "-----------------------------\n",
        "Process simulation\n",
        "\n",
        "  Input:\n",
        "  1. $F_x,\\ F_y,\\ F_z$\n",
        "  2. $\\rho$ ,  $C_d$\n",
        "  3. mass: m\n",
        "\n",
        "Output\n",
        "  1. Ultimate velocity\n",
        "  2. plt of process"
      ]
    },
    {
      "cell_type": "code",
      "metadata": {
        "id": "S1Mz8CnYPmed"
      },
      "source": [
        "import math\n",
        "import matplotlib.pyplot as plt\n",
        "import numpy as np\n",
        "\n",
        "# Assume Da 4m , Db 2m, Dc 2m   V^(2/3) = 4.125\n",
        "Da = 4\n",
        "Db = 2\n",
        "Dc = 2\n",
        "# Shape hull + Gondola\n",
        "cdh0 = 0.025\n",
        "cdg0 = 0.001\n",
        "cdch = 1.0\n",
        "cdcg = 1.0\n",
        "Ref_Ac = 4.125\n",
        "Ref_Ag = 0.1 \n",
        "rho = 1.2\n",
        "\n",
        "l_gz = 1"
      ],
      "execution_count": 18,
      "outputs": []
    },
    {
      "cell_type": "code",
      "metadata": {
        "colab": {
          "base_uri": "https://localhost:8080/"
        },
        "id": "pvxmn7O9cyEU",
        "outputId": "6148f8e6-7f93-4bae-ac95-6c2675fc3d64"
      },
      "source": [
        "math.sin(math.pi/2)\n",
        "abs(1)"
      ],
      "execution_count": 11,
      "outputs": [
        {
          "output_type": "execute_result",
          "data": {
            "text/plain": [
              "1"
            ]
          },
          "metadata": {
            "tags": []
          },
          "execution_count": 11
        }
      ]
    },
    {
      "cell_type": "code",
      "metadata": {
        "id": "R1l53P7Dv888"
      },
      "source": [
        "import math\n",
        "import matplotlib.pyplot as plt\n",
        "import numpy as np\n",
        "def calculate_drag(v,alpha,beta):\n",
        "  # CX1 in paper\n",
        "  cdx = -1*(cdh0*Ref_Ac + cdg0*Ref_Ag)\n",
        "  fd_x =0.5*rho*v**2*(cdx*math.cos(alpha)*math.cos(alpha)*math.cos(beta)*math.cos(beta))\n",
        "  # CY3 in paper\n",
        "  cdy = -1*(cdch*1.31*Ref_Ac + cdcg*Ref_Ag)\n",
        "  fd_y =0.5*rho*v**2*(cdy*math.sin(beta)*math.sin(abs(beta)))\n",
        "  # CZ3 in paper\n",
        "  cdz = -1*(cdch*1.31*Ref_Ac)\n",
        "  fd_z =0.5*rho*v**2*(cdz*math.sin(alpha)*math.sin(abs(alpha)))\n",
        "\n",
        "  return fd_x,fd_y,fd_z\n",
        "\n",
        "def calculate_moment(v,alpha,beta):\n",
        "  # CL2 in paper\n",
        "  cdl = -1*(cdcg*Ref_Ag*l_gz)\n",
        "  L =0.5*rho*v**2*(cdl*math.sin(beta)*math.sin(abs(beta)))\n",
        "  # CM3 in paper\n",
        "  cdm = -1*(cdch*0.53*Ref_Ac*Da)\n",
        "  M =0.5*rho*v**2*(cdm*math.sin(alpha)*math.sin(abs(alpha)))\n",
        "  # CN3 in paper\n",
        "  cdn = -1*cdm\n",
        "  N =0.5*rho*v**2*(cdn*math.sin(beta)*math.sin(abs(beta)))\n",
        "\n",
        "  return L,M,N\n",
        "\n"
      ],
      "execution_count": 16,
      "outputs": []
    },
    {
      "cell_type": "code",
      "metadata": {
        "colab": {
          "base_uri": "https://localhost:8080/"
        },
        "id": "-5UaSJxSfiOf",
        "outputId": "ea6127d2-58c3-4940-d865-a26401462664"
      },
      "source": [
        "alpha = math.pi/10\n",
        "beta = math.pi/20\n",
        "v = 10\n",
        "calculate_drag(v,alpha,beta)"
      ],
      "execution_count": 20,
      "outputs": [
        {
          "output_type": "execute_result",
          "data": {
            "text/plain": [
              "(-5.464980883802252, -8.081180953216455, -30.96073249939133)"
            ]
          },
          "metadata": {
            "tags": []
          },
          "execution_count": 20
        }
      ]
    },
    {
      "cell_type": "code",
      "metadata": {
        "colab": {
          "base_uri": "https://localhost:8080/"
        },
        "id": "IcP5gDlBk5KD",
        "outputId": "192bed7d-7887-46c8-ac4a-7701cdada8ec"
      },
      "source": [
        "calculate_moment(v,alpha,beta)"
      ],
      "execution_count": 21,
      "outputs": [
        {
          "output_type": "execute_result",
          "data": {
            "text/plain": [
              "(-0.1468304511145393, -50.104391525732545, 12.84032294996646)"
            ]
          },
          "metadata": {
            "tags": []
          },
          "execution_count": 21
        }
      ]
    },
    {
      "cell_type": "markdown",
      "metadata": {
        "id": "kkNjE6UQC10V"
      },
      "source": [
        "# test: calculation of drag force"
      ]
    },
    {
      "cell_type": "code",
      "metadata": {
        "colab": {
          "base_uri": "https://localhost:8080/",
          "height": 296
        },
        "id": "emocWazl-afK",
        "outputId": "4868660a-8beb-4c80-f7e1-b482ae73e57c"
      },
      "source": [
        "import matplotlib.pyplot as plt\n",
        "# test func: calculate_drag()  :\n",
        "dx = 8\n",
        "dy = 2\n",
        "dz = 1\n",
        "fdxs = []\n",
        "fdys = []\n",
        "fdzs = []\n",
        "vs = range(1,101)\n",
        "for v in range(1,101):\n",
        "  fd_x,fd_y,fd_z = calculate_drag(v,v,v,dx,dy,dz)\n",
        "  fdxs.append(fd_x)\n",
        "  fdys.append(fd_y)\n",
        "  fdzs.append(fd_z)\n",
        "\n",
        "plt.plot(vs,fdxs,label='$Fd_x$')\n",
        "plt.plot(vs,fdys,label='$Fd_y$')\n",
        "plt.plot(vs,fdzs,label='$Fd_z$')\n",
        "plt.legend()\n",
        "plt.xlabel(\"Velocity(m/s)\")\n",
        "plt.ylabel(\"force(N)\")\n",
        "\n",
        "\n"
      ],
      "execution_count": null,
      "outputs": [
        {
          "output_type": "execute_result",
          "data": {
            "text/plain": [
              "Text(0, 0.5, 'force(N)')"
            ]
          },
          "metadata": {
            "tags": []
          },
          "execution_count": 151
        },
        {
          "output_type": "display_data",
          "data": {
            "image/png": "[encoded data removed]",
            "text/plain": [
              "<Figure size 432x288 with 1 Axes>"
            ]
          },
          "metadata": {
            "tags": [],
            "needs_background": "light"
          }
        }
      ]
    },
    {
      "cell_type": "markdown",
      "metadata": {
        "id": "xmKveqcnC7Q8"
      },
      "source": [
        "# test: simluation with outer force"
      ]
    },
    {
      "cell_type": "code",
      "metadata": {
        "colab": {
          "base_uri": "https://localhost:8080/",
          "height": 279
        },
        "id": "o1ELRigbG9cf",
        "outputId": "4d1ffdb5-1768-467d-d43c-0e903bdafb66"
      },
      "source": [
        "ultimate_velocity(100,100,100,8,2,1,100)"
      ],
      "execution_count": null,
      "outputs": [
        {
          "output_type": "display_data",
          "data": {
            "image/png": "[encoded data removed]",
            "text/plain": [
              "<Figure size 432x288 with 1 Axes>"
            ]
          },
          "metadata": {
            "tags": [],
            "needs_background": "light"
          }
        }
      ]
    },
    {
      "cell_type": "markdown",
      "metadata": {
        "id": "C8TZzjUJWLJ4"
      },
      "source": [
        "# Motion Simulation\n",
        "try to learn from\n",
        "https://www.khanacademy.org/computer-programming/modeling-air-resistance/966875281"
      ]
    }
  ]
}