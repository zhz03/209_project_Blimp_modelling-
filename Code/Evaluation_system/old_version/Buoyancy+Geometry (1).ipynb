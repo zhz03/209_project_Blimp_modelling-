{
  "nbformat": 4,
  "nbformat_minor": 0,
  "metadata": {
    "colab": {
      "name": "Buoyancy+Geometry.ipynb",
      "provenance": []
    },
    "kernelspec": {
      "name": "python3",
      "display_name": "Python 3"
    }
  },
  "cells": [
    {
      "cell_type": "markdown",
      "metadata": {
        "id": "sfditZtAJUtF"
      },
      "source": [
        "#Formula:\n",
        "$⍴_{a}=⍴_{air}-⍴_{Hellium}$\n",
        "\n",
        "$B = ⍴_{a}Vg $\n",
        "\n",
        "$V = \\frac{3}{4}\\ * \\pi *a*b*c $\n",
        "\n"
      ]
    },
    {
      "cell_type": "markdown",
      "metadata": {
        "id": "SgKRDqNDIMKH"
      },
      "source": [
        "# Input:\n",
        "$⍴_{a}$: density difference between helium and air \n",
        "\n",
        "$a,b,c$: diameters along x,y,z \n",
        "\n",
        "$\\phi, \\theta, \\psi :$ roll, yaw, pitch angle \n",
        "\n",
        "$W$: weight of each component \n",
        "\n",
        "We assume no pitch, roll and yaw. And Z axis is pointing downward. \n"
      ]
    },
    {
      "cell_type": "markdown",
      "metadata": {
        "id": "VbBjJLQLIzie"
      },
      "source": [
        "#Output\n",
        "\n",
        "1.Buoyancy Force and its moment on X Y Z\n",
        " \n",
        "[force on x, force on y, force on z, moment on x, moment on y, moment on z]\n",
        "\n"
      ]
    },
    {
      "cell_type": "code",
      "metadata": {
        "id": "mxw56pyjOxTw"
      },
      "source": [
        "import math\n",
        "import matplotlib.pyplot as plt\n",
        "import numpy as np\n",
        "\n",
        "def calc_Volume(a,b,c):\n",
        "  pi = math.pi\n",
        "  r_a = round(0.5*a,5)\n",
        "  r_b = round(0.5*b,5)\n",
        "  r_c = round(0.5*c,5)\n",
        "  v = (pi * r_a * r_b * r_c)*3/4\n",
        "  v = round(v,5)\n",
        "  return v\n",
        "def total_weight(w):\n",
        "  w_t = 0\n",
        "  for i in w:\n",
        "    w_t = i + w_t\n",
        "  return w_t\n",
        "def calc_Buoyancy(p_hellium,p_air,a,b,c,w,arm_x,arm_y,arm_z):\n",
        "  \n",
        "  g = 9.8;\n",
        "  v = round(calc_Volume(a,b,c),5)\n",
        "  w_t = round(total_weight(w),5)\n",
        "  B = p_air * v *g *(-1) #because we assume Z axis pointing downward, buoyancy force is therefore negative\n",
        "  B = round(B,5)\n",
        "  moment_y = round(B*arm_x,5) #moment on y axis equals the buoyancy force times its arm on x axis\n",
        "  moment_x = round(B*arm_y,5) #moment on x axis equals the buoyancy force times its arm on y axis \n",
        "  moment_z = 0 #zero since we assume no pitch and roll. \n",
        "  return [0 , 0 , B, moment_x, moment_y, 0]  #[force on x, force on y, force on z, moment on x, moment on y, moment on z]\n",
        "\n"
      ],
      "execution_count": null,
      "outputs": []
    },
    {
      "cell_type": "code",
      "metadata": {
        "colab": {
          "base_uri": "https://localhost:8080/"
        },
        "id": "_J6pUrA2VdPD",
        "outputId": "ff773655-d71b-419c-9bcc-cf8963434dbd"
      },
      "source": [
        "calc_Buoyancy(0.1664,1.205,2,3,5,[3,5,43],2,3,0)"
      ],
      "execution_count": null,
      "outputs": [
        {
          "output_type": "stream",
          "text": [
            "1.0386\n",
            "-89.9325339444\n",
            "-89.93253\n"
          ],
          "name": "stdout"
        },
        {
          "output_type": "execute_result",
          "data": {
            "text/plain": [
              "[0, 0, -89.93253, -269.79759, -179.86506, 0]"
            ]
          },
          "metadata": {
            "tags": []
          },
          "execution_count": 15
        }
      ]
    }
  ]
}